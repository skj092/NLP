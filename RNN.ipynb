{
 "cells": [
  {
   "cell_type": "code",
   "execution_count": 4,
   "id": "b3b714d9",
   "metadata": {},
   "outputs": [],
   "source": [
    "# # RNN\n",
    "\n",
    "# The purpose of recurrent neural networks is to model sequence of tensors. \n",
    "# The goal of recurrent networks is to learn a representation of a sequence. \n",
    "# This is done by maintaining a hidden state vector that captures the curerent state of the sequence. \n",
    "# The sidden state vector i scomputed from both a current input vector and the preevious hidden state vector. "
   ]
  },
  {
   "cell_type": "code",
   "execution_count": 2,
   "id": "e1510a1c",
   "metadata": {},
   "outputs": [],
   "source": [
    "import tensorflow as tf"
   ]
  },
  {
   "cell_type": "code",
   "execution_count": null,
   "id": "c52dd9e3",
   "metadata": {},
   "outputs": [],
   "source": []
  }
 ],
 "metadata": {
  "kernelspec": {
   "display_name": "Python 3 (ipykernel)",
   "language": "python",
   "name": "python3"
  },
  "language_info": {
   "codemirror_mode": {
    "name": "ipython",
    "version": 3
   },
   "file_extension": ".py",
   "mimetype": "text/x-python",
   "name": "python",
   "nbconvert_exporter": "python",
   "pygments_lexer": "ipython3",
   "version": "3.9.6"
  }
 },
 "nbformat": 4,
 "nbformat_minor": 5
}
